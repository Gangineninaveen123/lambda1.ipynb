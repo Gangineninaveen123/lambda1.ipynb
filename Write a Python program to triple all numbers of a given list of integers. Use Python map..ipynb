{
 "cells": [
  {
   "cell_type": "code",
   "execution_count": 1,
   "id": "202c76dc",
   "metadata": {},
   "outputs": [
    {
     "name": "stdout",
     "output_type": "stream",
     "text": [
      "sample list: [1, 2, 3, 4, 5, 6, 7]\n",
      "\n",
      " Triple of list numbers:\n",
      "[3, 6, 9, 12, 15, 18, 21]\n"
     ]
    }
   ],
   "source": [
    "sample_list  = [1,2,3,4,5,6,7]\n",
    "print('sample list:',sample_list)\n",
    "function = map(lambda i : i*3 , sample_list)\n",
    "print('\\n Triple of list numbers:')\n",
    "print(list(function))"
   ]
  },
  {
   "cell_type": "code",
   "execution_count": null,
   "id": "379788de",
   "metadata": {},
   "outputs": [],
   "source": []
  }
 ],
 "metadata": {
  "kernelspec": {
   "display_name": "Python 3",
   "language": "python",
   "name": "python3"
  },
  "language_info": {
   "codemirror_mode": {
    "name": "ipython",
    "version": 3
   },
   "file_extension": ".py",
   "mimetype": "text/x-python",
   "name": "python",
   "nbconvert_exporter": "python",
   "pygments_lexer": "ipython3",
   "version": "3.6.9"
  }
 },
 "nbformat": 4,
 "nbformat_minor": 5
}
